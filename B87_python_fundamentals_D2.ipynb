{
 "cells": [
  {
   "cell_type": "code",
   "execution_count": null,
   "id": "cfd3bcfd-8784-4818-8bc9-e5dc9b93e947",
   "metadata": {},
   "outputs": [],
   "source": [
    "#introduction to number data type (numbers)"
   ]
  },
  {
   "cell_type": "code",
   "execution_count": 3,
   "id": "500e035d-0bf8-41ef-ab51-a0fea0375de1",
   "metadata": {},
   "outputs": [
    {
     "name": "stdout",
     "output_type": "stream",
     "text": [
      "123\n"
     ]
    }
   ],
   "source": [
    "number = 123\n",
    "print(number)"
   ]
  },
  {
   "cell_type": "code",
   "execution_count": 4,
   "id": "3d7e9763-ec18-4f95-b9df-6735a6d9213d",
   "metadata": {},
   "outputs": [
    {
     "data": {
      "text/plain": [
       "int"
      ]
     },
     "execution_count": 4,
     "metadata": {},
     "output_type": "execute_result"
    }
   ],
   "source": [
    "type(number)"
   ]
  },
  {
   "cell_type": "code",
   "execution_count": 8,
   "id": "fc1d9bca-0f87-4acd-9c9a-65487abdf70e",
   "metadata": {},
   "outputs": [],
   "source": [
    "#intro to list data type: index [0,1,2,3,4,5.......]"
   ]
  },
  {
   "cell_type": "code",
   "execution_count": 9,
   "id": "50ac76ba-7d79-4369-919f-b37454924592",
   "metadata": {},
   "outputs": [],
   "source": [
    "students = ['arpita','aisa','ashwini','bhuvan','david']"
   ]
  },
  {
   "cell_type": "code",
   "execution_count": 10,
   "id": "99d69f2d-1ffc-46e7-afc9-859c37f5127a",
   "metadata": {},
   "outputs": [
    {
     "name": "stdout",
     "output_type": "stream",
     "text": [
      "['arpita', 'aisa', 'ashwini', 'bhuvan', 'david']\n"
     ]
    }
   ],
   "source": [
    "print(students)"
   ]
  },
  {
   "cell_type": "code",
   "execution_count": 11,
   "id": "0aacb4c6-5603-4a92-af36-c67335cdcd1a",
   "metadata": {},
   "outputs": [],
   "source": [
    "#req - i want to access aswini name in the output"
   ]
  },
  {
   "cell_type": "code",
   "execution_count": 15,
   "id": "8312bd10-48da-43d0-905e-c0e668854a63",
   "metadata": {},
   "outputs": [
    {
     "name": "stdout",
     "output_type": "stream",
     "text": [
      "ashwini\n"
     ]
    }
   ],
   "source": [
    "print(students[2])"
   ]
  },
  {
   "cell_type": "code",
   "execution_count": 16,
   "id": "e19af6ff-b7cb-4f0d-8295-0b8a1c775d56",
   "metadata": {},
   "outputs": [
    {
     "name": "stdout",
     "output_type": "stream",
     "text": [
      "Ashwini\n"
     ]
    }
   ],
   "source": [
    "print(students[2].title())"
   ]
  },
  {
   "cell_type": "code",
   "execution_count": 17,
   "id": "00e1df19-9c81-4583-b3d2-ab07c27c24eb",
   "metadata": {},
   "outputs": [],
   "source": [
    "# how to add elements to the list   (append)\n",
    "# how to modify elemnts to the list  ()\n",
    "\n",
    "# how to delete the element in the list"
   ]
  },
  {
   "cell_type": "code",
   "execution_count": 18,
   "id": "0634e6d3-df24-432e-9cd7-0e73f7126dbb",
   "metadata": {},
   "outputs": [
    {
     "name": "stdout",
     "output_type": "stream",
     "text": [
      "['arpita', 'aisa', 'ashwini', 'bhuvan', 'david']\n"
     ]
    }
   ],
   "source": [
    "print(students)"
   ]
  },
  {
   "cell_type": "code",
   "execution_count": null,
   "id": "d00f617f-18fb-4827-8904-376122b94fb7",
   "metadata": {},
   "outputs": [],
   "source": []
  },
  {
   "cell_type": "code",
   "execution_count": null,
   "id": "5096c817-68e8-4c1e-afe0-6bf1752790f9",
   "metadata": {},
   "outputs": [],
   "source": []
  },
  {
   "cell_type": "code",
   "execution_count": null,
   "id": "97e17394-7300-4b6a-b38b-d18e672a7fe2",
   "metadata": {},
   "outputs": [],
   "source": []
  },
  {
   "cell_type": "code",
   "execution_count": null,
   "id": "1f5655d5-262b-4cb4-b3dd-a0fe61f218aa",
   "metadata": {},
   "outputs": [],
   "source": []
  },
  {
   "cell_type": "code",
   "execution_count": null,
   "id": "520dc6b4-fb24-4754-b3c1-33baa5e1d631",
   "metadata": {},
   "outputs": [],
   "source": []
  },
  {
   "cell_type": "code",
   "execution_count": null,
   "id": "4420f1e8-ca75-41f3-9218-dcb8d2ac2e15",
   "metadata": {},
   "outputs": [],
   "source": []
  },
  {
   "cell_type": "code",
   "execution_count": null,
   "id": "304b28e3-4680-48b7-bd19-bfc0bae3a872",
   "metadata": {},
   "outputs": [],
   "source": []
  },
  {
   "cell_type": "code",
   "execution_count": null,
   "id": "70574a87-6713-4065-ac3f-081048cd1b80",
   "metadata": {},
   "outputs": [],
   "source": []
  }
 ],
 "metadata": {
  "kernelspec": {
   "display_name": "Python 3 (ipykernel)",
   "language": "python",
   "name": "python3"
  },
  "language_info": {
   "codemirror_mode": {
    "name": "ipython",
    "version": 3
   },
   "file_extension": ".py",
   "mimetype": "text/x-python",
   "name": "python",
   "nbconvert_exporter": "python",
   "pygments_lexer": "ipython3",
   "version": "3.13.5"
  }
 },
 "nbformat": 4,
 "nbformat_minor": 5
}
